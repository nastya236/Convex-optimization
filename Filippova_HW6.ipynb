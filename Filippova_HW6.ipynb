{
  "nbformat": 4,
  "nbformat_minor": 0,
  "metadata": {
    "kernelspec": {
      "display_name": "Python 3",
      "language": "python",
      "name": "python3"
    },
    "language_info": {
      "codemirror_mode": {
        "name": "ipython",
        "version": 3
      },
      "file_extension": ".py",
      "mimetype": "text/x-python",
      "name": "python",
      "nbconvert_exporter": "python",
      "pygments_lexer": "ipython3",
      "version": "3.6.10"
    },
    "colab": {
      "name": "HW6 (1).ipynb",
      "provenance": [],
      "collapsed_sections": []
    }
  },
  "cells": [
    {
      "cell_type": "markdown",
      "metadata": {
        "id": "BY-BYiMfmHHd",
        "colab_type": "text"
      },
      "source": [
        "# Домашнее задание 6\n",
        "\n",
        "(прислать до 02:00 24.03.2020)\n",
        "\n",
        "Домашнее задание выполняется в этом же Jupyter Notebook'e и присылается мне в Piazza через Private Post.\n",
        "Файл с Вашим решением должен называться ```Surname_HW#```, где вместо ```Surname``` Вы пишите свою фамилию латиницей, а вместо ```#``` - номер домашнего задания. \n",
        "Решение каждой задачи необходимо поместить после её условия.\n",
        "\n",
        "Пожалуйста, пишите свои решения чётко и понятно. \n",
        "При полном запуске Вашего решения (Kernel -> Restart & Run All) все ячейки должны выполняться без ошибок. "
      ]
    },
    {
      "cell_type": "markdown",
      "metadata": {
        "id": "ecacF2W-mHHi",
        "colab_type": "text"
      },
      "source": [
        "## Задача 1 (17 pts)\n",
        "\n",
        "_1._ (6 pts) Реализуйте метод Левенберга-Марквардта\n",
        "\n",
        "_2._ (2 pts) Сгенерируйте синтетические данные для решения задачи определения местоположения по расстояниям до известных объектов. То есть, Вам надо определить текущее положение человека $x$ по известным расстояниям $\\rho_i$ до каждого из $N$ объектов с известными координатами $y_i$. Такая задача может быть записана следующим образом\n",
        "\n",
        "$$\n",
        "\\min_x \\sum_{i=1}^N (\\|x - y_i\\|^2_2 - \\rho_i)^2\n",
        "$$\n",
        "\n",
        "Является ли эта задача выпуклой и почему?"
      ]
    },
    {
      "cell_type": "code",
      "metadata": {
        "id": "fPMTHlEdmHHm",
        "colab_type": "code",
        "outputId": "3fb50e47-0537-4b2f-dfae-da9b06cbef7b",
        "colab": {
          "base_uri": "https://localhost:8080/",
          "height": 282
        }
      },
      "source": [
        "import numpy as np\n",
        "import matplotlib.pyplot as plt\n",
        "import scipy\n",
        "%matplotlib inline\n",
        "np.random.seed(42)\n",
        "# We consider objects in plane for simplicity. In 3D you can use the same approach\n",
        "n = 2\n",
        "# Number of objects\n",
        "m = 5\n",
        "# Coordinates of the objects\n",
        "y = np.random.randn(m, n)\n",
        "# Ground-truth target position\n",
        "xtrue = np.random.rand(1, n)\n",
        "# Distances between ground-truth position and known objects\n",
        "l2_distances = np.sum((y - xtrue)**2, axis=1)\n",
        "\n",
        "plt.scatter(xtrue[0, 0], xtrue[0, 1], label=\"Target position\")\n",
        "plt.scatter(y[:, 0], y[:, 1], label=\"Position of objects\")\n",
        "plt.legend()"
      ],
      "execution_count": 0,
      "outputs": [
        {
          "output_type": "execute_result",
          "data": {
            "text/plain": [
              "<matplotlib.legend.Legend at 0x7f14b7a9fb70>"
            ]
          },
          "metadata": {
            "tags": []
          },
          "execution_count": 483
        },
        {
          "output_type": "display_data",
          "data": {
            "image/png": "[encoded data removed]",
            "text/plain": [
              "<Figure size 432x288 with 1 Axes>"
            ]
          },
          "metadata": {
            "tags": []
          }
        }
      ]
    },
    {
      "cell_type": "code",
      "metadata": {
        "id": "MNWFAR-ySHrg",
        "colab_type": "code",
        "colab": {}
      },
      "source": [
        "def levenberg_marquardt(f, jac, x, lam, rho_min, rho_max, tol, num_iter = 1000):\n",
        "\n",
        "    n = x.shape[0]\n",
        "    num = 0\n",
        "\n",
        "    while True:\n",
        "\n",
        "        J = Jac(x)\n",
        "\n",
        "        F = f(x)\n",
        "\n",
        "        while True:\n",
        "\n",
        "\n",
        "            h = np.linalg.solve(J.T.dot(J) + lam * np.eye(n), -J.T.dot(F))\n",
        "            num +=1\n",
        "            if num> num_iter:\n",
        "              return 0\n",
        "            alpha = 0.1\n",
        "            x_next = x + alpha * h\n",
        "            F_next = f(x_next)\n",
        "            if np.linalg.norm(F_next) < np.linalg.norm(F):\n",
        "\n",
        "                lam = rho_min * lam\n",
        "                x = x_next\n",
        "\n",
        "                break\n",
        "            else:\n",
        "\n",
        "                lam = lam * rho_max\n",
        "\n",
        "        if np.linalg.norm(F) - np.linalg.norm(F_next) < tol:\n",
        "            break\n",
        "    return x"
      ],
      "execution_count": 0,
      "outputs": []
    },
    {
      "cell_type": "markdown",
      "metadata": {
        "id": "rf0HnjvLqQI5",
        "colab_type": "text"
      },
      "source": [
        "Задача выпукла:\n",
        "\n",
        "Пусть $a_i = (x-y_i)$\n",
        "Представим задачу ввиду: $F(x) = \\sum\\limits_{i=1}^N f_i(x) = \\sum\\limits_{i=1}^N(\\|x-y_i\\|_2^2-\\rho_i)^2. \\nabla f_i(x) = 4(a_i^Ta_i-\\rho_i) a_i, \\nabla^2 f_i(x) = 8a_ia_i^T(a_i^Ta_i-\\rho_i)$.\n",
        "\n",
        "$J^T(x) = [\\nabla f_1(x), \\dots, \\nabla f_N(x)]$. \n",
        "\n",
        "Исходная функциия распадается в сумму выпуклых функций, следовательно, задача выпукла."
      ]
    },
    {
      "cell_type": "code",
      "metadata": {
        "id": "9t02kyMZL-yA",
        "colab_type": "code",
        "colab": {}
      },
      "source": [
        "n = 20\n",
        "# Number of objects\n",
        "m = 30\n",
        "# Coordinates of the objects\n",
        "y = np.random.randn(m, n)\n",
        "# Ground-truth target position\n",
        "xtrue = np.random.rand(1, n)\n",
        "# Distances between ground-truth position and known objects\n",
        "l2_distances = np.sum((y - xtrue)**2, axis=1)\n",
        "x = np.random.rand(n)"
      ],
      "execution_count": 0,
      "outputs": []
    },
    {
      "cell_type": "code",
      "metadata": {
        "id": "kpMz8ELIqCAt",
        "colab_type": "code",
        "colab": {}
      },
      "source": [
        "def f_i(x,i):\n",
        "  return (np.linalg.norm(x-y[i])**2 - l2_distances[i])**2\n",
        "\n",
        "def grad_f_i(x,i):\n",
        "\n",
        "  return 4*((x-y[i]).T@(x-y[i])-l2_distances[i])*(x-y[i])\n",
        "\n",
        "def hes_f_i(x,i):\n",
        "  return 8*(x-y[i])[:,None]@(x-y[i])[:, None].T*((x-y[i])[:,None].T@(x-y[1])[:, None]- l2_distances[i])"
      ],
      "execution_count": 0,
      "outputs": []
    },
    {
      "cell_type": "code",
      "metadata": {
        "id": "iUbvOvJu5reX",
        "colab_type": "code",
        "colab": {}
      },
      "source": [
        "def Jac(x):\n",
        "  J=[grad_f_i(x, i) for i in range(m)]\n",
        "  return np.array(J)"
      ],
      "execution_count": 0,
      "outputs": []
    },
    {
      "cell_type": "code",
      "metadata": {
        "id": "bvsclNLR61Rr",
        "colab_type": "code",
        "colab": {}
      },
      "source": [
        "def f(x):\n",
        "  return np.array([f_i(x,i) for i in range(m)])"
      ],
      "execution_count": 0,
      "outputs": []
    },
    {
      "cell_type": "markdown",
      "metadata": {
        "id": "_ZOhWdA-mHHv",
        "colab_type": "text"
      },
      "source": [
        "_3._ (4 pts) Покажите, что Ваша реализация работает, решив с её помощью вышепоставленную задачу с использованием сгенерированных данных. Совпадает ли найденное решение с правильным ответом, по отношению к которому генерировались расстояния?  Сравните точность решения с работой [стандартного решателя](https://docs.scipy.org/doc/scipy/reference/generated/scipy.optimize.curve_fit.html) этой задачи из ```scipy.optimize```, не забудьте явно указать, что Вы хотите решить задачу методом Левенберга-Марквардта\n",
        "\n",
        "_4._ (3 pts) Запустите Ваш метод для различных начальных приближений. Всегда ли метод сходится в одну и ту же точку? Почему? Нарисуйте линии уровня целевой функции с помощью функции ```plt.countourf``` или её аналогов. Пример использования можно посмотреть [тут](https://matplotlib.org/gallery/images_contours_and_fields/contourf_log.html#sphx-glr-gallery-images-contours-and-fields-contourf-log-py)\n",
        "\n",
        "_5._ (2 pts) Проанализируйте численно, какое минимальное количество объектов $y_i$ необходимо для восстановления координат $x$?"
      ]
    },
    {
      "cell_type": "code",
      "metadata": {
        "id": "IWn0huqkBdK7",
        "colab_type": "code",
        "colab": {}
      },
      "source": [
        "from scipy import optimize"
      ],
      "execution_count": 0,
      "outputs": []
    },
    {
      "cell_type": "code",
      "metadata": {
        "id": "ixfIJnwmLElI",
        "colab_type": "code",
        "colab": {}
      },
      "source": [
        "my_res = levenberg_marquardt(f,Jac,x,lam = 1, rho_min = 0.5, rho_max=0.2, tol = 1e-6)"
      ],
      "execution_count": 0,
      "outputs": []
    },
    {
      "cell_type": "code",
      "metadata": {
        "id": "lJo8ouHAmHHy",
        "colab_type": "code",
        "colab": {}
      },
      "source": [
        "res = optimize.root(f,x,method='lm', jac = Jac)"
      ],
      "execution_count": 0,
      "outputs": []
    },
    {
      "cell_type": "code",
      "metadata": {
        "id": "sgCGE1MALbXC",
        "colab_type": "code",
        "outputId": "2de71fad-a80d-43eb-b25c-fe364796b058",
        "colab": {
          "base_uri": "https://localhost:8080/",
          "height": 34
        }
      },
      "source": [
        "print('Error of scipy realization:{}, error of my realisation:{} '.format(np.linalg.norm(xtrue-res.x), np.linalg.norm(xtrue - my_res)))"
      ],
      "execution_count": 0,
      "outputs": [
        {
          "output_type": "stream",
          "text": [
            "Error of scipy realization:6.574550320776279e-09, error of my realisation:0.0005150022793560317 \n"
          ],
          "name": "stdout"
        }
      ]
    },
    {
      "cell_type": "code",
      "metadata": {
        "id": "17WMJw7vVjH8",
        "colab_type": "code",
        "outputId": "db1dda53-5a59-4744-de14-4fcaa2e66f1f",
        "colab": {
          "base_uri": "https://localhost:8080/",
          "height": 156
        }
      },
      "source": [
        "c1 = np.random.rand(n)+100000\n",
        "c2 = np.random.rand(n)-100000\n",
        "\n",
        "print(levenberg_marquardt(f,Jac,c1,1,0.7,0.5, 1e-6))\n",
        "print(levenberg_marquardt(f,Jac,c2,1,0.7,0.5, 1e-6))\n"
      ],
      "execution_count": 0,
      "outputs": [
        {
          "output_type": "stream",
          "text": [
            "[0.87255409 0.36781542 0.77670818 0.06228058 0.73312126 0.20925685\n",
            " 0.23921094 0.18844339 0.5891902  0.59557805 0.50056185 0.40038121\n",
            " 0.91320196 0.85405485 0.48738773 0.40240307 0.0486174  0.62068669\n",
            " 0.06313785 0.27289637]\n",
            "[0.87284368 0.36783743 0.7762755  0.06260986 0.73341609 0.20938891\n",
            " 0.23974008 0.1881719  0.58993213 0.59558472 0.50055314 0.40026313\n",
            " 0.91303665 0.85354058 0.48711287 0.40221731 0.04848659 0.62093252\n",
            " 0.06278005 0.27294578]\n"
          ],
          "name": "stdout"
        }
      ]
    },
    {
      "cell_type": "markdown",
      "metadata": {
        "id": "-dAI10YTZHx7",
        "colab_type": "text"
      },
      "source": [
        "Точки близки, но они разные."
      ]
    },
    {
      "cell_type": "code",
      "metadata": {
        "id": "bDN7jEB2ZG-Q",
        "colab_type": "code",
        "colab": {}
      },
      "source": [
        ""
      ],
      "execution_count": 0,
      "outputs": []
    },
    {
      "cell_type": "code",
      "metadata": {
        "id": "qVb1mF0YPUho",
        "colab_type": "code",
        "colab": {}
      },
      "source": [
        "n = 2\n",
        "# Number of objects\n",
        "m = 5\n",
        "# Coordinates of the objects\n",
        "y = np.random.randn(m, n)\n",
        "# Ground-truth target position\n",
        "xtrue = np.random.rand(1, n)\n",
        "# Distances between ground-truth position and known objects\n",
        "l2_distances = np.sum((y - xtrue)**2, axis=1)\n",
        "x=np.random.rand(n)"
      ],
      "execution_count": 0,
      "outputs": []
    },
    {
      "cell_type": "code",
      "metadata": {
        "id": "tHIWz8YcMfNy",
        "colab_type": "code",
        "outputId": "4dcede63-a44b-4a25-f2d7-3eead93d6bd4",
        "colab": {
          "base_uri": "https://localhost:8080/",
          "height": 269
        }
      },
      "source": [
        "import matplotlib.pyplot as plt\n",
        "import numpy as np\n",
        "from numpy import ma\n",
        "from matplotlib import ticker, cm\n",
        "\n",
        "N = 1000\n",
        "x_ = np.linspace(-1, 1, N)\n",
        "y_ = np.linspace(-1, 1, N)\n",
        "\n",
        "X, Y = np.meshgrid(x_, y_)\n",
        "res2 = optimize.root(f,x,method='lm', jac = Jac)\n",
        "\n",
        "f_ = lambda X,Y: sum([((X - np.full_like(X,y[i,0]))**2\n",
        "                       +(Y - np.full_like(X,y[i,1]))**2 - np.full_like(X,l2_distances[i]))**2 for i in range(m)])\n",
        "z = f_(X,Y)\n",
        "# Put in some negative values (lower left corner) to cause trouble with logs:\n",
        "z[:5, :5] = -1\n",
        "\n",
        "# The following is not strictly essential, but it will eliminate\n",
        "# a warning.  Comment it out to see the warning.\n",
        "#z = ma.masked_where(z <= 0, z)\n",
        "\n",
        "fig, ax1 = plt.subplots()\n",
        "cs = ax1.contourf(X,Y, z)\n",
        "plt.scatter(xtrue[0][0],xtrue[0][1], c = 'red')\n",
        "cbar = fig.colorbar(cs)\n",
        "\n",
        "plt.show()"
      ],
      "execution_count": 0,
      "outputs": [
        {
          "output_type": "display_data",
          "data": {
            "image/png": "[encoded data removed]",
            "text/plain": [
              "<Figure size 432x288 with 2 Axes>"
            ]
          },
          "metadata": {
            "tags": []
          }
        }
      ]
    },
    {
      "cell_type": "code",
      "metadata": {
        "id": "o4yMCpPl359R",
        "colab_type": "code",
        "colab": {}
      },
      "source": [
        "n = 150\n",
        "\n",
        "m = 150\n",
        "# Coordinates of the objects\n",
        "y = np.random.randn(m, n)\n",
        "# Ground-truth target position\n",
        "xtrue = np.random.rand(1, n)\n",
        "# Distances between ground-truth position and known objects\n",
        "l2_distances = np.sum((y - xtrue)**2, axis=1)\n",
        "x = np.random.rand(n)\n"
      ],
      "execution_count": 0,
      "outputs": []
    },
    {
      "cell_type": "code",
      "metadata": {
        "id": "GYZQEgTa31Mr",
        "colab_type": "code",
        "colab": {}
      },
      "source": [
        "my_res = levenberg_marquardt(f,Jac,x,lam = 1, rho_min = 0.5, rho_max=0.2, tol = 1e-6)"
      ],
      "execution_count": 0,
      "outputs": []
    },
    {
      "cell_type": "code",
      "metadata": {
        "id": "ImqVBLnw4cVg",
        "colab_type": "code",
        "outputId": "dc1adf9a-be53-4986-809f-742a4f0bc095",
        "colab": {
          "base_uri": "https://localhost:8080/",
          "height": 34
        }
      },
      "source": [
        "np.linalg.norm(my_res - xtrue)"
      ],
      "execution_count": 0,
      "outputs": [
        {
          "output_type": "execute_result",
          "data": {
            "text/plain": [
              "0.060619900191999844"
            ]
          },
          "metadata": {
            "tags": []
          },
          "execution_count": 665
        }
      ]
    },
    {
      "cell_type": "markdown",
      "metadata": {
        "id": "D0n2EIthfEK-",
        "colab_type": "text"
      },
      "source": [
        "При $m=n$ метод сходится, при $m<n$ метод не сходится."
      ]
    },
    {
      "cell_type": "code",
      "metadata": {
        "id": "US9ZkSLzfMeo",
        "colab_type": "code",
        "colab": {}
      },
      "source": [
        ""
      ],
      "execution_count": 0,
      "outputs": []
    }
  ]
}